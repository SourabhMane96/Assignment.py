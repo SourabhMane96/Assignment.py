{
  "nbformat": 4,
  "nbformat_minor": 0,
  "metadata": {
    "colab": {
      "name": "Copy of Assignment.py",
      "provenance": [],
      "collapsed_sections": [],
      "authorship_tag": "ABX9TyMz3+xa5Km5ofbXnMvu899q",
      "include_colab_link": true
    },
    "kernelspec": {
      "name": "python3",
      "display_name": "Python 3"
    },
    "language_info": {
      "name": "python"
    }
  },
  "cells": [
    {
      "cell_type": "markdown",
      "metadata": {
        "id": "view-in-github",
        "colab_type": "text"
      },
      "source": [
        "<a href=\"https://colab.research.google.com/github/SourabhMane96/Assignment.py/blob/main/Copy_of_Assignment_py.ipynb\" target=\"_parent\"><img src=\"https://colab.research.google.com/assets/colab-badge.svg\" alt=\"Open In Colab\"/></a>"
      ]
    },
    {
      "cell_type": "code",
      "source": [
        "#Assignment 2 \n",
        "#Set\n",
        "set1={\"11\",\"12\",\"13\",\"15\"}\n",
        "set1.add(\"14\")\n",
        "print(set1)"
      ],
      "metadata": {
        "colab": {
          "base_uri": "https://localhost:8080/"
        },
        "id": "4IkUT1LlGqfd",
        "outputId": "8a1df985-2b5c-42f3-f0c9-194b38aeca1a"
      },
      "execution_count": null,
      "outputs": [
        {
          "output_type": "stream",
          "name": "stdout",
          "text": [
            "{'11', '12', '15', '14', '13'}\n"
          ]
        }
      ]
    },
    {
      "cell_type": "code",
      "source": [
        "#union\n",
        "set1={\"11\",\"12\",\"13\"}\n",
        "set2={\"14\",\"15\"}\n",
        "set3=set1.union(set2)\n",
        "print(set3)"
      ],
      "metadata": {
        "colab": {
          "base_uri": "https://localhost:8080/"
        },
        "id": "jyOVcpnpGqps",
        "outputId": "34797f8e-a846-4742-b6e5-eb5262282993"
      },
      "execution_count": null,
      "outputs": [
        {
          "output_type": "stream",
          "name": "stdout",
          "text": [
            "{'14', '11', '12', '15', '13'}\n"
          ]
        }
      ]
    },
    {
      "cell_type": "code",
      "source": [
        "#intersect\n",
        "x=set1&set2\n",
        "print(x)"
      ],
      "metadata": {
        "colab": {
          "base_uri": "https://localhost:8080/"
        },
        "id": "Dz-2Vj3FGqyl",
        "outputId": "d07423fb-81b4-457b-c968-6d94c0a5a9e5"
      },
      "execution_count": null,
      "outputs": [
        {
          "output_type": "stream",
          "name": "stdout",
          "text": [
            "set()\n"
          ]
        }
      ]
    },
    {
      "cell_type": "code",
      "source": [
        "#dictionary\n",
        "mydic={\"Mammal\":\"cheeta\",\"Bird\":\"parrot\",\"Fish\":\"swordfish\"}\n",
        "print(mydic)\n",
        "#Update\n",
        "mydic[\"Bird\"]=\"sparrow\"\n",
        "print(mydic)\n",
        "#Remove Delete\n",
        "del mydic[\"Fish\"]\n",
        "print(mydic)\n"
      ],
      "metadata": {
        "colab": {
          "base_uri": "https://localhost:8080/"
        },
        "id": "XMSCIPMXG7Pj",
        "outputId": "18bda740-9323-452b-b321-e1fec390c3a8"
      },
      "execution_count": null,
      "outputs": [
        {
          "output_type": "stream",
          "name": "stdout",
          "text": [
            "{'Mammal': 'cheeta', 'Bird': 'parrot', 'Fish': 'swordfish'}\n",
            "{'Mammal': 'cheeta', 'Bird': 'sparrow', 'Fish': 'swordfish'}\n",
            "{'Mammal': 'cheeta', 'Bird': 'sparrow'}\n"
          ]
        }
      ]
    },
    {
      "cell_type": "code",
      "source": [
        "#List\n",
        "list1=[1,\"sparta\",3.14,True]\n",
        "print(list1)\n"
      ],
      "metadata": {
        "id": "1n0aVGj6PaS7",
        "colab": {
          "base_uri": "https://localhost:8080/"
        },
        "outputId": "86564b62-cc95-4fe4-e3d5-ab8e0a850011"
      },
      "execution_count": null,
      "outputs": [
        {
          "output_type": "stream",
          "name": "stdout",
          "text": [
            "[1, 'sparta', 3.14, True]\n"
          ]
        }
      ]
    },
    {
      "cell_type": "code",
      "source": [
        "#changing/updating element\n",
        "list1[0]=100\n",
        "print(list1)"
      ],
      "metadata": {
        "colab": {
          "base_uri": "https://localhost:8080/"
        },
        "id": "KqinJeJBT4Zb",
        "outputId": "411d8dcf-ce2a-48f9-9feb-ceeb37d0966d"
      },
      "execution_count": null,
      "outputs": [
        {
          "output_type": "stream",
          "name": "stdout",
          "text": [
            "[100, 'sparta', 3.14, True]\n"
          ]
        }
      ]
    },
    {
      "cell_type": "code",
      "source": [
        "#Append/Add element\n",
        "list1.append(-87.99)\n",
        "print(list1)\n",
        "\n",
        "#Remove element/pop element\n",
        "list1.pop()"
      ],
      "metadata": {
        "colab": {
          "base_uri": "https://localhost:8080/"
        },
        "id": "A-Ekl1pAURIS",
        "outputId": "97c3bbb2-16d3-477a-9ab0-6794b46c9beb"
      },
      "execution_count": null,
      "outputs": [
        {
          "output_type": "stream",
          "name": "stdout",
          "text": [
            "[100, 'sparta', 3.14, True, -87.99, -87.99, -87.99]\n"
          ]
        },
        {
          "output_type": "execute_result",
          "data": {
            "text/plain": [
              "-87.99"
            ]
          },
          "metadata": {},
          "execution_count": 7
        }
      ]
    },
    {
      "cell_type": "code",
      "source": [
        "#Concatinating\n",
        "List2 = [\"apple\",\"Banana\",\"Mango\"]\n",
        "list1+List2"
      ],
      "metadata": {
        "colab": {
          "base_uri": "https://localhost:8080/"
        },
        "id": "6ELhQOq2UplI",
        "outputId": "c3369a88-d6cd-4490-8c99-278de3f515a4"
      },
      "execution_count": null,
      "outputs": [
        {
          "output_type": "execute_result",
          "data": {
            "text/plain": [
              "[100, 'sparta', 3.14, True, -87.99, -87.99, 'apple', 'Banana', 'Mango']"
            ]
          },
          "metadata": {},
          "execution_count": 9
        }
      ]
    },
    {
      "cell_type": "code",
      "source": [
        "#Repeating\n",
        "List2 = [\"apple\",\"Banana\",\"Mango\"]\n",
        "List2*3+list1"
      ],
      "metadata": {
        "colab": {
          "base_uri": "https://localhost:8080/"
        },
        "id": "-IJnJu94UXAP",
        "outputId": "f36e1b1c-bb05-486c-8d2f-2c0bbe0ff4e8"
      },
      "execution_count": null,
      "outputs": [
        {
          "output_type": "execute_result",
          "data": {
            "text/plain": [
              "['apple',\n",
              " 'Banana',\n",
              " 'Mango',\n",
              " 'apple',\n",
              " 'Banana',\n",
              " 'Mango',\n",
              " 'apple',\n",
              " 'Banana',\n",
              " 'Mango',\n",
              " 100,\n",
              " 'sparta',\n",
              " 3.14,\n",
              " True,\n",
              " -87.99,\n",
              " -87.99]"
            ]
          },
          "metadata": {},
          "execution_count": 10
        }
      ]
    },
    {
      "cell_type": "code",
      "source": [
        "#Tuple\n",
        "tup1 = (1,True,3.14,5-7j)\n",
        "print(tup1)\n",
        "#concatinate\n",
        "tup2=(4,5,6)\n",
        "tup1+tup2"
      ],
      "metadata": {
        "colab": {
          "base_uri": "https://localhost:8080/"
        },
        "id": "6IyGCeb5Y8qn",
        "outputId": "7e573b12-d826-4403-df3b-2f0e67ede974"
      },
      "execution_count": null,
      "outputs": [
        {
          "output_type": "stream",
          "name": "stdout",
          "text": [
            "(1, True, 3.14, (5-7j))\n"
          ]
        },
        {
          "output_type": "execute_result",
          "data": {
            "text/plain": [
              "(1, True, 3.14, (5-7j), 4, 5, 6)"
            ]
          },
          "metadata": {},
          "execution_count": 14
        }
      ]
    },
    {
      "cell_type": "code",
      "source": [
        "#tuple Repeat\n",
        "tup1=(1,2,3)\n",
        "tup1*5"
      ],
      "metadata": {
        "colab": {
          "base_uri": "https://localhost:8080/"
        },
        "id": "Q_7pwAQ1Zk8m",
        "outputId": "e31e3329-8181-46c7-c9fd-3eca3e3b5836"
      },
      "execution_count": null,
      "outputs": [
        {
          "output_type": "execute_result",
          "data": {
            "text/plain": [
              "(1, 2, 3, 1, 2, 3, 1, 2, 3, 1, 2, 3, 1, 2, 3)"
            ]
          },
          "metadata": {},
          "execution_count": 15
        }
      ]
    },
    {
      "cell_type": "code",
      "source": [
        "#Assignment 3\n",
        "def add():\n",
        "  x=int(input(\"enter first number:\"))\n",
        "  y=int(input(\"enter second number:\"))\n",
        "  print(\"sum of two number\"(x+y))\n",
        "  add()"
      ],
      "metadata": {
        "id": "0H9lzMCVHE4r"
      },
      "execution_count": null,
      "outputs": []
    },
    {
      "cell_type": "code",
      "source": [
        "#Assigment 3\n",
        "print(\"+ Addition\",\"- Subtraction\",\"* multiply\",\"/ Division\")\n",
        "\n",
        "choice=input(\"Enter your choice :\")\n",
        "\n",
        "num1=int(input(\"Enter number 1 :\"))\n",
        "num2=int(input(\"Enter number 2 :\"))\n",
        "\n",
        "if choice == \"+\":\n",
        "  print(num1,\"+\",num2,\"=\",(num1+num2))\n",
        "elif choice == \"-\":\n",
        "    print (num1,\"-\",num2,\"=\",(num1-num2))\n",
        "elif choice ==\"3\":\n",
        "      print (num1,\"*\",num2,\"=\",(num1*num2))\n",
        "elif choice == \"/\":\n",
        "        if num2==0.0:\n",
        "          print(\"divide by 0 error\")\n",
        "        print (num1,\"/\",num2,\"=\",(num1/num2))\n",
        "     \n"
      ],
      "metadata": {
        "colab": {
          "base_uri": "https://localhost:8080/"
        },
        "id": "5sUeGPLvHM58",
        "outputId": "95ae0a8d-d299-4674-cfda-9eec33dea44e"
      },
      "execution_count": null,
      "outputs": [
        {
          "output_type": "stream",
          "name": "stdout",
          "text": [
            "+ Addition - Subtraction * multiply / Division\n",
            "Enter your choice :-\n",
            "Enter number 1 :5\n",
            "Enter number 2 :1\n",
            "5 - 1 = 4\n"
          ]
        }
      ]
    },
    {
      "cell_type": "code",
      "source": [
        "#Assignment 3\n",
        "x=int(input(\"enter first value:\"))\n",
        "y=int(input(\"enter second value:\"))\n",
        "a=x+y\n",
        "print(\"sum of two number\", a)\n"
      ],
      "metadata": {
        "colab": {
          "base_uri": "https://localhost:8080/"
        },
        "id": "QHrvNCKlHTW_",
        "outputId": "741ee7b8-5d2d-4eea-edb4-c7537f396fc8"
      },
      "execution_count": null,
      "outputs": [
        {
          "output_type": "stream",
          "name": "stdout",
          "text": [
            "enter first value:155\n",
            "enter second value:222\n",
            "sum of two number 377\n"
          ]
        }
      ]
    },
    {
      "cell_type": "code",
      "source": [
        "x=int(input(\"enter first value:\"))\n",
        "y=int(input(\"enter second value:\"))\n",
        "b=x-y\n",
        "print(\"sum of two number\",b)"
      ],
      "metadata": {
        "colab": {
          "base_uri": "https://localhost:8080/"
        },
        "id": "25afgVOaHgl8",
        "outputId": "6331645c-ecf6-4045-bc62-35b84b95860f"
      },
      "execution_count": null,
      "outputs": [
        {
          "output_type": "stream",
          "name": "stdout",
          "text": [
            "enter first value:55\n",
            "enter second value:25\n",
            "sum of two number 30\n"
          ]
        }
      ]
    },
    {
      "cell_type": "code",
      "source": [
        "x=int(input(\"enter first value:\"))\n",
        "y=int(input(\"enter second value:\"))\n",
        "c=x*y\n",
        "print(\"sum of two numbers\",c)"
      ],
      "metadata": {
        "colab": {
          "base_uri": "https://localhost:8080/"
        },
        "id": "J-UIwBYPHkd8",
        "outputId": "131ce404-d47f-477c-beec-485297e9379b"
      },
      "execution_count": null,
      "outputs": [
        {
          "output_type": "stream",
          "name": "stdout",
          "text": [
            "enter first value:20\n",
            "enter second value:21\n",
            "sum of two numbers 420\n"
          ]
        }
      ]
    },
    {
      "cell_type": "code",
      "source": [
        "#Assignment 4\n",
        "myfile=open(\"file.txt\",\"r+\")\n",
        "print(myfile.read())"
      ],
      "metadata": {
        "colab": {
          "base_uri": "https://localhost:8080/"
        },
        "id": "UJzAlNCiHryk",
        "outputId": "987e3afd-a23e-4ed8-a85f-d0c0bd1c814d"
      },
      "execution_count": null,
      "outputs": [
        {
          "output_type": "stream",
          "name": "stdout",
          "text": [
            "code for login\n",
            "login time log out time\n",
            "display data\n",
            "alert mode\n"
          ]
        }
      ]
    },
    {
      "cell_type": "code",
      "source": [
        "myfile.close()"
      ],
      "metadata": {
        "id": "dS3JNEpCISs-"
      },
      "execution_count": null,
      "outputs": []
    },
    {
      "cell_type": "code",
      "source": [
        "myfile=open(\"file.txt\",\"w+\")\n",
        "myfile.write(\"my name is panda\")\n"
      ],
      "metadata": {
        "colab": {
          "base_uri": "https://localhost:8080/"
        },
        "id": "Q4YB7iokIcY7",
        "outputId": "f9b382ac-bfa8-4046-b0c9-305e5872132d"
      },
      "execution_count": null,
      "outputs": [
        {
          "output_type": "execute_result",
          "data": {
            "text/plain": [
              "16"
            ]
          },
          "metadata": {},
          "execution_count": 13
        }
      ]
    },
    {
      "cell_type": "code",
      "source": [
        "myfile=open(\"file.txt\",\"r+\")\n",
        "print(myfile.read())"
      ],
      "metadata": {
        "colab": {
          "base_uri": "https://localhost:8080/"
        },
        "id": "74_v59ysIhhd",
        "outputId": "a183f443-db0c-4676-e6c9-c933155176af"
      },
      "execution_count": null,
      "outputs": [
        {
          "output_type": "stream",
          "name": "stdout",
          "text": [
            "\n"
          ]
        }
      ]
    },
    {
      "cell_type": "code",
      "source": [
        "myfile=open(\"file.txt\",\"a+\")\n",
        "myfile.write(\"\\n this written by programmer\")"
      ],
      "metadata": {
        "colab": {
          "base_uri": "https://localhost:8080/"
        },
        "id": "ieK1Ka9lIzed",
        "outputId": "78cde20b-eb1e-42e0-955e-c20b2c0fd9a4"
      },
      "execution_count": null,
      "outputs": [
        {
          "output_type": "execute_result",
          "data": {
            "text/plain": [
              "28"
            ]
          },
          "metadata": {},
          "execution_count": 15
        }
      ]
    },
    {
      "cell_type": "code",
      "source": [
        "myfile=open(\"file.txt\",\"r+\")\n",
        "print(myfile.read())"
      ],
      "metadata": {
        "colab": {
          "base_uri": "https://localhost:8080/"
        },
        "id": "fn9bGcf9I6d2",
        "outputId": "d05e07e8-8543-4c57-bc3f-c0cea2bfdf60"
      },
      "execution_count": null,
      "outputs": [
        {
          "output_type": "stream",
          "name": "stdout",
          "text": [
            "my name is panda\n"
          ]
        }
      ]
    },
    {
      "cell_type": "code",
      "source": [
        "#Assignment 5\n",
        "#Increasing order\n",
        "mylist = [10,5,3,2,1]\n",
        "print(\"Unordered list:\", mylist)\n",
        "mylist.sort()\n",
        "print(\"Increasing order\",mylist)\n",
        "\n"
      ],
      "metadata": {
        "colab": {
          "base_uri": "https://localhost:8080/"
        },
        "id": "tmGtYI-ZJDQ1",
        "outputId": "2de19fa7-ebf4-4c54-e940-2e5320dcd9c3"
      },
      "execution_count": null,
      "outputs": [
        {
          "output_type": "stream",
          "name": "stdout",
          "text": [
            "Unordered list: [10, 5, 3, 2, 1]\n",
            "Increasing order [1, 2, 3, 5, 10]\n"
          ]
        }
      ]
    },
    {
      "cell_type": "code",
      "source": [
        "#Decreasing order\n",
        "mylist = [3,5,10,2,1]\n",
        "print(\"Unordered list:\", mylist)\n",
        "mylist.sort(reverse=True)\n",
        "print(\"Decreasing order\",mylist)"
      ],
      "metadata": {
        "colab": {
          "base_uri": "https://localhost:8080/"
        },
        "id": "ZKrIPliAKqbz",
        "outputId": "c3e1ed33-126b-404e-b08b-f4eb5caebad4"
      },
      "execution_count": null,
      "outputs": [
        {
          "output_type": "stream",
          "name": "stdout",
          "text": [
            "Unordered list: [3, 5, 10, 2, 1]\n",
            "Decreasing order [10, 5, 3, 2, 1]\n"
          ]
        }
      ]
    },
    {
      "cell_type": "code",
      "source": [
        "#Assignment 6\n",
        "#Multiplication Table\n",
        "list_num=[2,3,4,5,6,7,8,9]"
      ],
      "metadata": {
        "id": "0RsGEN7uLtdj"
      },
      "execution_count": null,
      "outputs": []
    },
    {
      "cell_type": "code",
      "source": [
        "dict={}\n",
        "for num in list_num:\n",
        "dict[list_num] = list(map(lambda x,y: x*y, list(range(1,11)), [list_num] * 10))\n",
        "dict"
      ],
      "metadata": {
        "colab": {
          "base_uri": "https://localhost:8080/",
          "height": 132
        },
        "id": "2gQOjHOLepc2",
        "outputId": "ff080624-76c2-4b5b-c676-bc9b36489e3c"
      },
      "execution_count": null,
      "outputs": [
        {
          "output_type": "error",
          "ename": "IndentationError",
          "evalue": "ignored",
          "traceback": [
            "\u001b[0;36m  File \u001b[0;32m\"<ipython-input-17-b325bc0a35df>\"\u001b[0;36m, line \u001b[0;32m3\u001b[0m\n\u001b[0;31m    dict[list_num] = list(map(lambda x,y: x*y, list(range(1,11)), [list_num] * 10))\u001b[0m\n\u001b[0m       ^\u001b[0m\n\u001b[0;31mIndentationError\u001b[0m\u001b[0;31m:\u001b[0m expected an indented block\n"
          ]
        }
      ]
    },
    {
      "cell_type": "code",
      "source": [
        "#Assignment6\n",
        "x= (1,10)\n",
        "y= (1,10)\n",
        "\n",
        "tables = lambda x,y:x*y for x in range(1,11)\n",
        "print(tables(1,11))"
      ],
      "metadata": {
        "colab": {
          "base_uri": "https://localhost:8080/",
          "height": 132
        },
        "id": "v4Ko-3R4bX2t",
        "outputId": "ea2e6ff4-f85f-4afa-b188-7553e4a2b3bb"
      },
      "execution_count": null,
      "outputs": [
        {
          "output_type": "error",
          "ename": "SyntaxError",
          "evalue": "ignored",
          "traceback": [
            "\u001b[0;36m  File \u001b[0;32m\"<ipython-input-44-4aecb3f2ee89>\"\u001b[0;36m, line \u001b[0;32m5\u001b[0m\n\u001b[0;31m    tables = lambda x,y:x*y for x in range(1,11)\u001b[0m\n\u001b[0m                              ^\u001b[0m\n\u001b[0;31mSyntaxError\u001b[0m\u001b[0;31m:\u001b[0m invalid syntax\n"
          ]
        }
      ]
    },
    {
      "cell_type": "code",
      "source": [],
      "metadata": {
        "id": "IazRGgBkfqUo"
      },
      "execution_count": null,
      "outputs": []
    }
  ]
}